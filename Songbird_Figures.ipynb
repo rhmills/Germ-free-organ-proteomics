{
 "cells": [
  {
   "cell_type": "markdown",
   "metadata": {},
   "source": [
    "Songbird was installed following the instructions here:\n",
    "\n",
    "https://github.com/biocore/songbird\n",
    "\n",
    "The following input was used to run the multinomal regression:\n",
    "\n",
    "songbird multinomial  \n",
    "\n",
    "--input-biom Data/Proteins.biom \\   \n",
    "--metadata-file Data/Metadata.txt \\   \n",
    "--formula \"mouse+sample_type+status\" \\  \n",
    "--epochs 10000 \\  \n",
    "--min-sample-count 500 \\  \n",
    "--differential-prior 0.5 \\  \n",
    "--summary-dir Songbird_e10k_dp05/"
   ]
  },
  {
   "cell_type": "code",
   "execution_count": 1,
   "metadata": {
    "collapsed": true
   },
   "outputs": [],
   "source": [
    "import pandas as pd\n",
    "import seaborn as sns\n",
    "\n",
    "import matplotlib.pyplot as plt\n",
    "import numpy as np\n",
    "\n",
    "%matplotlib inline"
   ]
  },
  {
   "cell_type": "code",
   "execution_count": 41,
   "metadata": {
    "collapsed": true
   },
   "outputs": [],
   "source": [
    "ranks = pd.read_table('Data/differentials.csv', sep=',', index_col=0)\n",
    "annotations = pd.read_table('Data/Annotations.txt', index_col=0)\n",
    "metadata = pd.read_table('Data/Metadata.txt', index_col=0)\n",
    "proteins = pd.read_table('Data/Proteins.txt', index_col=0)"
   ]
  },
  {
   "cell_type": "code",
   "execution_count": 42,
   "metadata": {
    "collapsed": true
   },
   "outputs": [],
   "source": [
    "rank_annot = pd.merge(ranks, annotations, left_index=True, right_index=True)"
   ]
  },
  {
   "cell_type": "code",
   "execution_count": 43,
   "metadata": {
    "collapsed": true
   },
   "outputs": [],
   "source": [
    "#Getting the top protein hits for colonization status\n",
    "\n",
    "vals = []\n",
    "\n",
    "vals.append(rank_annot[[\"status[T.SPF]\"]].sort_values(\"status[T.SPF]\").head(10).index.tolist())\n",
    "vals.append(rank_annot[['status[T.SPF]']].sort_values('status[T.SPF]').tail(10).index.tolist())\n",
    "\n",
    "flat_list = [item for sublist in vals for item in sublist]\n",
    "\n",
    "tophits = list(set(flat_list))"
   ]
  },
  {
   "cell_type": "code",
   "execution_count": 44,
   "metadata": {
    "collapsed": true
   },
   "outputs": [],
   "source": [
    "tophits_colonization = rank_annot.loc[tophits]"
   ]
  },
  {
   "cell_type": "code",
   "execution_count": 46,
   "metadata": {
    "collapsed": true
   },
   "outputs": [
    {
     "data": {
      "text/html": [
       "<div>\n",
       "<style scoped>\n",
       "    .dataframe tbody tr th:only-of-type {\n",
       "        vertical-align: middle;\n",
       "    }\n",
       "\n",
       "    .dataframe tbody tr th {\n",
       "        vertical-align: top;\n",
       "    }\n",
       "\n",
       "    .dataframe thead th {\n",
       "        text-align: right;\n",
       "    }\n",
       "</style>\n",
       "<table border=\"1\" class=\"dataframe\">\n",
       "  <thead>\n",
       "    <tr style=\"text-align: right;\">\n",
       "      <th></th>\n",
       "      <th>Gene names</th>\n",
       "      <th>status[T.SPF]</th>\n",
       "    </tr>\n",
       "    <tr>\n",
       "      <th>#OTUID</th>\n",
       "      <th></th>\n",
       "      <th></th>\n",
       "    </tr>\n",
       "  </thead>\n",
       "  <tbody>\n",
       "    <tr>\n",
       "      <th>A0A075B5M7</th>\n",
       "      <td>Igkv5-39</td>\n",
       "      <td>-1.758850</td>\n",
       "    </tr>\n",
       "    <tr>\n",
       "      <th>Q8BWQ1</th>\n",
       "      <td>Ugt2a3</td>\n",
       "      <td>-1.511850</td>\n",
       "    </tr>\n",
       "    <tr>\n",
       "      <th>Q9Z129</th>\n",
       "      <td>Recql Recql1</td>\n",
       "      <td>-1.474630</td>\n",
       "    </tr>\n",
       "    <tr>\n",
       "      <th>P63038</th>\n",
       "      <td>Hspd1 Hsp60</td>\n",
       "      <td>-1.472360</td>\n",
       "    </tr>\n",
       "    <tr>\n",
       "      <th>Q9DCX8</th>\n",
       "      <td>Iyd Dehal1</td>\n",
       "      <td>-1.407103</td>\n",
       "    </tr>\n",
       "    <tr>\n",
       "      <th>Q9CXJ4</th>\n",
       "      <td>Abcb8</td>\n",
       "      <td>-1.380594</td>\n",
       "    </tr>\n",
       "    <tr>\n",
       "      <th>Q3TWW8</th>\n",
       "      <td>Srsf6 Sfrs6 Srp55</td>\n",
       "      <td>-1.374384</td>\n",
       "    </tr>\n",
       "    <tr>\n",
       "      <th>Q9CZJ2</th>\n",
       "      <td>Hspa12b</td>\n",
       "      <td>-1.369013</td>\n",
       "    </tr>\n",
       "    <tr>\n",
       "      <th>Q9CQ52</th>\n",
       "      <td>Cela3b Ela3 Ela3b</td>\n",
       "      <td>-1.333958</td>\n",
       "    </tr>\n",
       "    <tr>\n",
       "      <th>Q8VE22</th>\n",
       "      <td>Mrps23</td>\n",
       "      <td>-1.282877</td>\n",
       "    </tr>\n",
       "    <tr>\n",
       "      <th>Q9EPC1</th>\n",
       "      <td>Parva Actp MNCb-0301</td>\n",
       "      <td>1.513964</td>\n",
       "    </tr>\n",
       "    <tr>\n",
       "      <th>P63325</th>\n",
       "      <td>Rps10</td>\n",
       "      <td>1.517597</td>\n",
       "    </tr>\n",
       "    <tr>\n",
       "      <th>Q9DCE9</th>\n",
       "      <td>Igtp</td>\n",
       "      <td>1.624319</td>\n",
       "    </tr>\n",
       "    <tr>\n",
       "      <th>Q8CHT3</th>\n",
       "      <td>Ints5</td>\n",
       "      <td>1.662002</td>\n",
       "    </tr>\n",
       "    <tr>\n",
       "      <th>Q3TXS7</th>\n",
       "      <td>Psmd1</td>\n",
       "      <td>1.677944</td>\n",
       "    </tr>\n",
       "    <tr>\n",
       "      <th>Q8K124</th>\n",
       "      <td>Plekho2 Plekhq1</td>\n",
       "      <td>1.764343</td>\n",
       "    </tr>\n",
       "    <tr>\n",
       "      <th>Q8BH55</th>\n",
       "      <td>Thnsl1</td>\n",
       "      <td>1.788783</td>\n",
       "    </tr>\n",
       "    <tr>\n",
       "      <th>Q9CWD8</th>\n",
       "      <td>Nubpl</td>\n",
       "      <td>1.953077</td>\n",
       "    </tr>\n",
       "    <tr>\n",
       "      <th>P97454</th>\n",
       "      <td>Smad5 Madh5 Msmad5</td>\n",
       "      <td>2.087327</td>\n",
       "    </tr>\n",
       "    <tr>\n",
       "      <th>Q61941</th>\n",
       "      <td>Nnt</td>\n",
       "      <td>2.667683</td>\n",
       "    </tr>\n",
       "  </tbody>\n",
       "</table>\n",
       "</div>"
      ],
      "text/plain": [
       "                      Gene names  status[T.SPF]\n",
       "#OTUID                                         \n",
       "A0A075B5M7              Igkv5-39      -1.758850\n",
       "Q8BWQ1                    Ugt2a3      -1.511850\n",
       "Q9Z129              Recql Recql1      -1.474630\n",
       "P63038               Hspd1 Hsp60      -1.472360\n",
       "Q9DCX8                Iyd Dehal1      -1.407103\n",
       "Q9CXJ4                     Abcb8      -1.380594\n",
       "Q3TWW8         Srsf6 Sfrs6 Srp55      -1.374384\n",
       "Q9CZJ2                   Hspa12b      -1.369013\n",
       "Q9CQ52         Cela3b Ela3 Ela3b      -1.333958\n",
       "Q8VE22                    Mrps23      -1.282877\n",
       "Q9EPC1      Parva Actp MNCb-0301       1.513964\n",
       "P63325                     Rps10       1.517597\n",
       "Q9DCE9                      Igtp       1.624319\n",
       "Q8CHT3                     Ints5       1.662002\n",
       "Q3TXS7                     Psmd1       1.677944\n",
       "Q8K124           Plekho2 Plekhq1       1.764343\n",
       "Q8BH55                    Thnsl1       1.788783\n",
       "Q9CWD8                     Nubpl       1.953077\n",
       "P97454        Smad5 Madh5 Msmad5       2.087327\n",
       "Q61941                       Nnt       2.667683"
      ]
     },
     "execution_count": 46,
     "metadata": {},
     "output_type": "execute_result"
    }
   ],
   "source": [
    "#Igkv5-39 is least associated with conventional (SPF) mice while Nnt is most associated\n",
    "\n",
    "tophits_colonization.sort_values(\"status[T.SPF]\")[['Gene names', 'status[T.SPF]']]"
   ]
  },
  {
   "cell_type": "code",
   "execution_count": 50,
   "metadata": {
    "collapsed": true
   },
   "outputs": [],
   "source": [
    "sns.set_style('white')"
   ]
  },
  {
   "cell_type": "code",
   "execution_count": 51,
   "metadata": {
    "collapsed": false
   },
   "outputs": [
    {
     "name": "stdout",
     "output_type": "stream",
     "text": [
      "-1.7588500864053156\n",
      "2.6676834934210385\n"
     ]
    }
   ],
   "source": [
    "print(min(coefs))\n",
    "print(max(coefs))"
   ]
  },
  {
   "cell_type": "code",
   "execution_count": 52,
   "metadata": {
    "collapsed": false
   },
   "outputs": [
    {
     "data": {
      "text/plain": [
       "<BarContainer object of 1 artists>"
      ]
     },
     "execution_count": 52,
     "metadata": {},
     "output_type": "execute_result"
    },
    {
     "data": {
      "image/png": "[encoded data removed]",
      "text/plain": [
       "<Figure size 360x576 with 1 Axes>"
      ]
     },
     "metadata": {},
     "output_type": "display_data"
    }
   ],
   "source": [
    "coefs = rank_annot['status[T.SPF]'].sort_values()\n",
    "x = np.arange(coefs.shape[0])\n",
    "\n",
    "fig = plt.figure(figsize=(5, 8))\n",
    "\n",
    "plt.barh(x, coefs, 1, label='', alpha=0.2, edgecolor='#D0D0D0', lw=0.1, color='#D0D0D0') #gray\n",
    "plt.ylabel('Proteins', size=15)\n",
    "plt.yticks([])\n",
    "plt.xlabel(r'$\\log (\\frac{Conventional\\; Mouse}{GF}) + K$', fontsize=14, labelpad=10, rotation=0)\n",
    "\n",
    "plt.barh(4458, 2.6676834934210385, lw=1, edgecolor='blue', color='blue')\n",
    "plt.barh(0, -1.7588500864053156, lw=1, edgecolor='red', color='red')\n",
    "\n",
    "#plt.savefig('Figure_X.svg')"
   ]
  },
  {
   "cell_type": "markdown",
   "metadata": {},
   "source": [
    "### Protein Abundances"
   ]
  },
  {
   "cell_type": "code",
   "execution_count": 47,
   "metadata": {
    "collapsed": true
   },
   "outputs": [],
   "source": [
    "proteins = proteins.T\n",
    "proteins['sum'] = proteins.sum(axis=1)"
   ]
  },
  {
   "cell_type": "code",
   "execution_count": 48,
   "metadata": {
    "collapsed": true
   },
   "outputs": [],
   "source": [
    "metadata = pd.merge(metadata, proteins, left_index=True, right_index=True)"
   ]
  },
  {
   "cell_type": "code",
   "execution_count": 49,
   "metadata": {
    "collapsed": true
   },
   "outputs": [],
   "source": [
    "metadata.sort_values('status', inplace=True)"
   ]
  },
  {
   "cell_type": "code",
   "execution_count": 66,
   "metadata": {
    "collapsed": false
   },
   "outputs": [
    {
     "data": {
      "text/plain": [
       "Text(0, 0.5, 'Igkv5-39')"
      ]
     },
     "execution_count": 66,
     "metadata": {},
     "output_type": "execute_result"
    },
    {
     "data": {
      "image/png": "[encoded data removed]",
      "text/plain": [
       "<Figure size 432x288 with 1 Axes>"
      ]
     },
     "metadata": {},
     "output_type": "display_data"
    }
   ],
   "source": [
    "sns.boxplot(x='sample_type', y= 'A0A075B5M7', hue='status', data=metadata)\n",
    "plt.ylabel('Igkv5-39')"
   ]
  },
  {
   "cell_type": "code",
   "execution_count": 65,
   "metadata": {
    "collapsed": false
   },
   "outputs": [
    {
     "data": {
      "text/plain": [
       "Text(0, 0.5, 'Nnt')"
      ]
     },
     "execution_count": 65,
     "metadata": {},
     "output_type": "execute_result"
    },
    {
     "data": {
      "image/png": "[encoded data removed]",
      "text/plain": [
       "<Figure size 432x288 with 1 Axes>"
      ]
     },
     "metadata": {},
     "output_type": "display_data"
    }
   ],
   "source": [
    "sns.boxplot(x='sample_type', y= 'Q61941', hue='status', data=metadata)\n",
    "plt.ylabel('Nnt')"
   ]
  },
  {
   "cell_type": "code",
   "execution_count": 61,
   "metadata": {
    "collapsed": true
   },
   "outputs": [],
   "source": [
    "#Getting the logratio of Nnt over total proteins per sample\n",
    "\n",
    "metadata['log10_Nnt'] = np.log10(metadata['Q61941']/metadata['sum'])"
   ]
  },
  {
   "cell_type": "code",
   "execution_count": 62,
   "metadata": {
    "collapsed": true
   },
   "outputs": [],
   "source": [
    "#Getting the logratio of Igkv5-39 over total proteins per sample\n",
    "\n",
    "metadata['log10_Igkv539'] = np.log10(metadata['A0A075B5M7']/metadata['sum'])"
   ]
  },
  {
   "cell_type": "code",
   "execution_count": 63,
   "metadata": {
    "collapsed": true
   },
   "outputs": [],
   "source": [
    "sns.set_style('darkgrid')"
   ]
  },
  {
   "cell_type": "code",
   "execution_count": 64,
   "metadata": {
    "collapsed": true
   },
   "outputs": [],
   "source": [
    "cols = ['maroon', 'grey']"
   ]
  },
  {
   "cell_type": "code",
   "execution_count": 67,
   "metadata": {
    "collapsed": true
   },
   "outputs": [],
   "source": [
    "metadata = metadata.replace(to_replace='SPF', value='Conventional')"
   ]
  },
  {
   "cell_type": "code",
   "execution_count": 68,
   "metadata": {
    "collapsed": false
   },
   "outputs": [
    {
     "data": {
      "text/plain": [
       "<matplotlib.legend.Legend at 0x1a23d18b38>"
      ]
     },
     "execution_count": 68,
     "metadata": {},
     "output_type": "execute_result"
    },
    {
     "data": {
      "image/png": "[encoded data removed]",
      "text/plain": [
       "<Figure size 432x288 with 1 Axes>"
      ]
     },
     "metadata": {},
     "output_type": "display_data"
    }
   ],
   "source": [
    "sns.boxplot(x='sample_type', y= 'log10_Nnt', hue='status', palette=cols, data=metadata)\n",
    "plt.title('Nnt')\n",
    "\n",
    "plt.ylabel(r'$\\log10 (\\frac{Nnt}{Total \\; Proteins})$', fontsize=20, labelpad=90, rotation=0)\n",
    "plt.xticks(size=13)\n",
    "plt.xlabel('Organ', size=14)\n",
    "plt.yticks(size=10)\n",
    "\n",
    "plt.legend(fontsize=14, facecolor='white')\n",
    "\n",
    "#plt.savefig('Nnt10.svg')"
   ]
  },
  {
   "cell_type": "code",
   "execution_count": 69,
   "metadata": {
    "collapsed": false
   },
   "outputs": [
    {
     "data": {
      "text/plain": [
       "<matplotlib.legend.Legend at 0x1a23e8a160>"
      ]
     },
     "execution_count": 69,
     "metadata": {},
     "output_type": "execute_result"
    },
    {
     "data": {
      "image/png": "[encoded data removed]",
      "text/plain": [
       "<Figure size 432x288 with 1 Axes>"
      ]
     },
     "metadata": {},
     "output_type": "display_data"
    }
   ],
   "source": [
    "sns.boxplot(x='sample_type', y= 'log10_Igkv539', hue='status', palette=cols, data=metadata)\n",
    "plt.title('Igkv5-39')\n",
    "\n",
    "plt.ylabel(r'$\\log10 (\\frac{Igkv5-39}{Total \\; Proteins})$', fontsize=20, labelpad=90, rotation=0)\n",
    "plt.xticks(size=13)\n",
    "plt.xlabel('Organ', size=14)\n",
    "plt.yticks(size=10)\n",
    "\n",
    "plt.legend(fontsize=14, facecolor='white')\n",
    "#plt.savefig('Igkv539_10.svg')"
   ]
  },
  {
   "cell_type": "code",
   "execution_count": null,
   "metadata": {
    "collapsed": true
   },
   "outputs": [],
   "source": []
  }
 ],
 "metadata": {
  "anaconda-cloud": {},
  "kernelspec": {
   "display_name": "Python [default]",
   "language": "python",
   "name": "python3"
  },
  "language_info": {
   "codemirror_mode": {
    "name": "ipython",
    "version": 3
   },
   "file_extension": ".py",
   "mimetype": "text/x-python",
   "name": "python",
   "nbconvert_exporter": "python",
   "pygments_lexer": "ipython3",
   "version": "3.5.2"
  }
 },
 "nbformat": 4,
 "nbformat_minor": 2
}
